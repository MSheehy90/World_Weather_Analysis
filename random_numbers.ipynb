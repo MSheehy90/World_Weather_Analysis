{
 "cells": [
  {
   "cell_type": "code",
   "execution_count": 1,
   "id": "ce345832",
   "metadata": {},
   "outputs": [],
   "source": [
    "import random"
   ]
  },
  {
   "cell_type": "code",
   "execution_count": 2,
   "id": "aa3748c3",
   "metadata": {},
   "outputs": [
    {
     "data": {
      "text/plain": [
       "-38"
      ]
     },
     "execution_count": 2,
     "metadata": {},
     "output_type": "execute_result"
    }
   ],
   "source": [
    "random.randint(-90, 90)"
   ]
  },
  {
   "cell_type": "code",
   "execution_count": 3,
   "id": "c9ceb3a6",
   "metadata": {},
   "outputs": [
    {
     "data": {
      "text/plain": [
       "0.294159141090669"
      ]
     },
     "execution_count": 3,
     "metadata": {},
     "output_type": "execute_result"
    }
   ],
   "source": [
    "random.random()"
   ]
  },
  {
   "cell_type": "code",
   "execution_count": 4,
   "id": "8db1e036",
   "metadata": {},
   "outputs": [],
   "source": [
    "x = 1\n",
    "latitudes = []\n",
    "while x < 11:\n",
    "    random_lat = random.randint(-90, 89) + random.random()\n",
    "    latitudes.append(random_lat)\n",
    "    x += 1"
   ]
  },
  {
   "cell_type": "code",
   "execution_count": 5,
   "id": "d1f6f302",
   "metadata": {},
   "outputs": [
    {
     "data": {
      "text/plain": [
       "[-80.84895832370593,\n",
       " 61.76140276177075,\n",
       " 72.45169770907725,\n",
       " 48.06133911641644,\n",
       " -84.09744279050892,\n",
       " 57.68043839035648,\n",
       " 53.29803080728449,\n",
       " 51.5813558571078,\n",
       " 50.08869856900366,\n",
       " -50.429544333957104]"
      ]
     },
     "execution_count": 5,
     "metadata": {},
     "output_type": "execute_result"
    }
   ],
   "source": [
    "latitudes"
   ]
  },
  {
   "cell_type": "code",
   "execution_count": 7,
   "id": "168617dc",
   "metadata": {},
   "outputs": [
    {
     "data": {
      "text/plain": [
       "-69"
      ]
     },
     "execution_count": 7,
     "metadata": {},
     "output_type": "execute_result"
    }
   ],
   "source": [
    "random.randrange(-90, 90, step=1)"
   ]
  },
  {
   "cell_type": "code",
   "execution_count": 8,
   "id": "a0ab2359",
   "metadata": {},
   "outputs": [
    {
     "data": {
      "text/plain": [
       "72"
      ]
     },
     "execution_count": 8,
     "metadata": {},
     "output_type": "execute_result"
    }
   ],
   "source": [
    "random.randrange(-90, 90, step=3)"
   ]
  },
  {
   "cell_type": "code",
   "execution_count": 9,
   "id": "2648fd30",
   "metadata": {},
   "outputs": [],
   "source": [
    "import numpy as np"
   ]
  },
  {
   "cell_type": "code",
   "execution_count": 10,
   "id": "391568d6",
   "metadata": {},
   "outputs": [
    {
     "data": {
      "text/plain": [
       "53.643034965856515"
      ]
     },
     "execution_count": 10,
     "metadata": {},
     "output_type": "execute_result"
    }
   ],
   "source": [
    "np.random.uniform(-90.000, 90.000)"
   ]
  },
  {
   "cell_type": "code",
   "execution_count": 11,
   "id": "713bbc7a",
   "metadata": {},
   "outputs": [
    {
     "data": {
      "text/plain": [
       "array([-62.99729204, -13.82611021, -69.73434473,  67.87332606,\n",
       "        38.70812515, -33.40724669, -39.19887606,  19.49118716,\n",
       "        68.80715192,   9.04100196,  -1.72077473,  48.60388306,\n",
       "       -35.70291094,  41.66314551, -84.70158997, -58.6518081 ,\n",
       "       -71.16113892,  89.95534236,  77.4581718 ,  30.43869935,\n",
       "         0.14745545, -41.15052104, -80.9091677 ,  68.6773277 ,\n",
       "        31.03746853,   7.71431805,   1.04338724,  75.95574477,\n",
       "        -7.45804214, -17.34047845,  86.50081753,  88.7820577 ,\n",
       "       -35.23313575, -82.89163848, -32.11342533, -38.61157582,\n",
       "        41.57131126,  75.01980174,  89.35325069,   6.83542784,\n",
       "         7.05718045, -37.59915516,   0.75246099, -80.77106793,\n",
       "       -45.84712116, -61.20691913, -42.87523901,  34.89700966,\n",
       "        -2.67929707,  79.30364446])"
      ]
     },
     "execution_count": 11,
     "metadata": {},
     "output_type": "execute_result"
    }
   ],
   "source": [
    "np.random.uniform(-90.000, 90.000, size=50)"
   ]
  },
  {
   "cell_type": "code",
   "execution_count": 17,
   "id": "7095120f",
   "metadata": {},
   "outputs": [],
   "source": [
    "# Import timeit.\n",
    "import timeit"
   ]
  },
  {
   "cell_type": "code",
   "execution_count": 18,
   "id": "91ab0fa3",
   "metadata": {},
   "outputs": [
    {
     "name": "stdout",
     "output_type": "stream",
     "text": [
      "12 µs ± 495 ns per loop (mean ± std. dev. of 7 runs, 100000 loops each)\n"
     ]
    }
   ],
   "source": [
    "%timeit np.random.uniform(-90.000, 90.000, size=1500)"
   ]
  },
  {
   "cell_type": "code",
   "execution_count": 19,
   "id": "34522c8b",
   "metadata": {},
   "outputs": [
    {
     "ename": "SyntaxError",
     "evalue": "invalid syntax (1830138290.py, line 11)",
     "output_type": "error",
     "traceback": [
      "\u001b[1;36m  File \u001b[1;32m\"C:\\Users\\ponen\\AppData\\Local\\Temp\\ipykernel_3888\\1830138290.py\"\u001b[1;36m, line \u001b[1;32m11\u001b[0m\n\u001b[1;33m    The output is 1.45 milliseconds.\u001b[0m\n\u001b[1;37m             ^\u001b[0m\n\u001b[1;31mSyntaxError\u001b[0m\u001b[1;31m:\u001b[0m invalid syntax\n"
     ]
    }
   ],
   "source": [
    "def latitudes(size):\n",
    "    latitudes = []\n",
    "    x = 0\n",
    "    while x < (size):\n",
    "        random_lat = random.randint(-90, 90) + random.random()\n",
    "        latitudes.append(random_lat)\n",
    "        x += 1\n",
    "    return latitudes\n",
    "# Call the function with 1500.\n",
    "%timeit latitudes(1500)\n",
    "The output is 1.45 milliseconds."
   ]
  },
  {
   "cell_type": "code",
   "execution_count": 20,
   "id": "dfe5dd00",
   "metadata": {},
   "outputs": [
    {
     "data": {
      "text/plain": [
       "array([  0.12778589,  25.52770159,  34.13697802, ..., -80.90368657,\n",
       "        79.65008735, -33.0414719 ])"
      ]
     },
     "execution_count": 20,
     "metadata": {},
     "output_type": "execute_result"
    }
   ],
   "source": [
    "np.random.uniform(-90.000, 90.000, size=1500)"
   ]
  },
  {
   "cell_type": "code",
   "execution_count": null,
   "id": "468196da",
   "metadata": {},
   "outputs": [],
   "source": []
  }
 ],
 "metadata": {
  "kernelspec": {
   "display_name": "PythonData",
   "language": "python",
   "name": "pythondata"
  },
  "language_info": {
   "codemirror_mode": {
    "name": "ipython",
    "version": 3
   },
   "file_extension": ".py",
   "mimetype": "text/x-python",
   "name": "python",
   "nbconvert_exporter": "python",
   "pygments_lexer": "ipython3",
   "version": "3.7.13"
  }
 },
 "nbformat": 4,
 "nbformat_minor": 5
}
